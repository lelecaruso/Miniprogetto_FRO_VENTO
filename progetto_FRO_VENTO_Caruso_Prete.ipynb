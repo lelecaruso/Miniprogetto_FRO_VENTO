{
  "cells": [
    {
      "cell_type": "markdown",
      "id": "71e8cba3",
      "metadata": {
        "id": "71e8cba3"
      },
      "source": [
        "# Optimal charging station location on a cycleway\n",
        "\n",
        "\n",
        "Consider a long linear cycle path  as Vento (VENezia-TOrino), or the Danube cycle path. The cycle path usually runs along the banks of a river with scarse tourist interest. However, from the main course of the cycle path it is possible to reach places of tourist interest by making small detours.  \n",
        "\n",
        "The rapid growth of e-bike ridership is proposing the problem of deploying a suitable charging infrastructure. The charging stations should be placed in strategic positions so as to guarantee a coverage of the whole cycle path. However, since the charging operations require a non negligible time, the charging station should be positioned in places where alternative activities could be carried out, as restaurants, museums, swimming pool, or other amenities. These places, called **Points of Interest (POI)**  are not on the main trajectory of the cyclepath, but the bikers must deviate to reach them.\n",
        "\n",
        "We assume that the bikers enter the cyclepath where it begins and finish the trip ath the end of the cyclepath. When they enter the battery is fully charged. Moreover, the bikers will make all possible deviations in order to visit all the POIs.\n",
        "\n",
        "\n",
        "\n",
        "\n",
        "\n"
      ]
    },
    {
      "cell_type": "markdown",
      "id": "65d91fd2",
      "metadata": {
        "id": "65d91fd2"
      },
      "source": [
        "## Formulation\n",
        "\n",
        "To support the formulation we make use of a graph with $2n+2$ nodes.\n",
        "Nodes $s$ and $t$ represent the extremes of the cyclepath.\n",
        "\n",
        "Nodes\n",
        "\n",
        "*   $L = \\{1,\\ldots,n\\}$:  locations along the cyclepath from which bikers deviate\n",
        "\n",
        "\n",
        "*   $H = \\{1',\\ldots, n'\\}$:  POIs that may host a charging station.\n",
        "\n",
        "*   $\\{s,t\\}$: extremes of the cyclepath.\n",
        "\n",
        "Arcs\n",
        "\n",
        "*  $\\{(i,i+1), (i+1, i) 1,\\ldots,n \\}$: arcs of the cyclepath in the two directions\n",
        "\n",
        "*  $\\{(i,i'), (i',i), i\\in L, i'\\in H\\}$: arcs representing the deviations from the cyclepath\n",
        "\n",
        "### Example of the graph\n",
        "![picture](https://drive.google.com/file/d/1A4dSP-4K1E3jwaab4A8JT21TKD7FINaK/view?usp=drive_link)\n",
        "\n",
        "### Parameters\n",
        "\n",
        "*   $d_{i,i+1}, d_{i+1,i}, i=1,\\ldots,n-1$: energy consumption between consecutive nodes,\n",
        "*   $d_{i,i'}, d_{i',i}, i \\in L, i'\\in H$: energy consumption for the deviations\n",
        "*   $c_i'$: cost of installing a charging station in site $i' \\in H$\n",
        "*   $\\Delta$: maximum energy consumption between consecutive charging stations\n",
        "\n",
        "We assume that $d_{s,1} d_{1,s} = d_{n,t} = d_{t,n} = 0$.\n",
        "Note that the energy consumption on each arc can be different in the two directions, depending on the orography.\n",
        "\n",
        "\n",
        "\n",
        "\n",
        "\n",
        "\n"
      ]
    },
    {
      "cell_type": "markdown",
      "id": "starting-attachment",
      "metadata": {
        "id": "starting-attachment"
      },
      "source": [
        "## Problem 1\n",
        "\n",
        "Consider a biker that traverses the cyclepath from $s$ to $t$, determine in which nodes of $H$ to install the charging stations so that the maximum energy consumption between two consecutive charging stations is no more than $\\Delta$ and minimize the overall cost.\n",
        "\n",
        "\n",
        "\n",
        "## Problem 2\n",
        "\n",
        "Consider a biker that traverses the cyclepath from $t$ to $s$, determine in which nodes of $H$ to install the charging stations so that the maximum energy consumption between two consecutive charging stations is no more than $\\Delta$ and minimize the overall cost.\n",
        "\n",
        "### Comments\n",
        "Do you obtain the same solution? Why?\n",
        "\n",
        "### Recommendation\n",
        "The problems can be solved by a simple formulation. The solution of complex problems as the TSP is not necessary.\n",
        "Do not use external libraries apart from those presented in class.\n",
        "\n"
      ]
    },
    {
      "cell_type": "markdown",
      "id": "fbd50503",
      "metadata": {
        "id": "fbd50503"
      },
      "source": [
        "## EMANUELE CARUSO, ANGELO PRETE\n",
        "Risoluzione del progetto di Laboratorio"
      ]
    },
    {
      "cell_type": "code",
      "execution_count": 30,
      "id": "6ac6b084",
      "metadata": {
        "colab": {
          "base_uri": "https://localhost:8080/"
        },
        "id": "6ac6b084",
        "outputId": "c1cab880-f7f5-4c87-f459-f05602cd87ae"
      },
      "outputs": [],
      "source": [
        "#import libraries\n",
        "\n",
        "# !pip install mip\n",
        "# !pip install --upgrade cffi==1.15.0\n",
        "import importlib\n",
        "import cffi\n",
        "importlib.reload(cffi)\n",
        "import numpy as np\n",
        "import math\n",
        "import networkx as nx"
      ]
    },
    {
      "cell_type": "markdown",
      "id": "1a51e636",
      "metadata": {
        "id": "1a51e636"
      },
      "source": [
        "## Solution Problem 1"
      ]
    },
    {
      "cell_type": "code",
      "execution_count": 31,
      "id": "k_M8hFS6Jyih",
      "metadata": {
        "id": "k_M8hFS6Jyih"
      },
      "outputs": [],
      "source": [
        "#data PROBLEM 1\n",
        "\n",
        "n = 15  # number of nodes on the main course\n",
        "n1 = 15 #number of touristic sites\n",
        "delta = 50  # max distance before recharge\n",
        "s = 0   # starting point\n",
        "t = n+1  # destination\n",
        "consumption = [20, 32, 11, 37, 7, 14, 22, 5, 35, 17, 23, 3, 26, 24] # consumption (in Wh) between two consecutive location along the main course\n",
        "consumption_deviation = [1.1, 0.7, 0.4, 0.9, 2.1, 1.8, 0.5, 0.4, 1.6, 2.5, 1.4, 0.8, 2.0, 1.3, 0.1] # consumption (in Wh) of the deviation\n",
        "inst_cost = [1492, 1789, 1914, 1861, 1348, 1769, 1123, 1432, 1564, 1818, 1901, 1265, 1642, 1712, 1756] #cost (in €) of installation of a charging point related to the node"
      ]
    },
    {
      "cell_type": "markdown",
      "id": "53c3e103",
      "metadata": {
        "id": "53c3e103"
      },
      "source": [
        "### Modifica dei dati\n",
        "\n",
        "Seguendo l'immagine lasciata in allegato alla traccia, abbiamo deciso per semplificare l'implementazione di considerare l'insieme dei nodi $N = \\{s,1',\\ldots,n',t\\}$ e quindi l'uscita dal cycle path sarà nel nodo $t = n+1$ e non $t=n$.\n",
        "\n",
        "Inoltre, per coerenza, abbiamo aggiunto agli array consumption e consumption_deviation i consumi fittizzi di $s$ e $t$ pari a $0$. Questo vale anche per i costi di installazione. Come vedremo, infatti, per considerare la bici carica all'inizio il costo di installazione in $s$ (e nel problema 2 in $t$) è $0$ e viene sempre scelta nella soluzione ottima (anche se lo tagliamo via dalla stampa finale del risultato).\n",
        "\n",
        "### Grafo equivalente\n",
        "\n",
        "Assumendo che la consumption della deviazione debba essere considerato sia verso il POI che al ritorno verso la tappa corrispondente al POI, abbiamo deciso di costruire il grafo nel seguente modo:\n",
        "\n",
        "il grafo equivalente è $G = (N, A)$ con $N = \\{s,1',...,n',t\\}$ ovvero $s$,$t$ e i POI.\n",
        "\n",
        "l'insieme degli archi è $A = {(i,j): i<j, b_{ij} < \\Delta , \\forall (i,j) \\in A }$ quindi il grafo è aciclico\n",
        "\n",
        "$b$ rappresenta il consumo totale tra due nodi pari alla somma delle consumption_new del grafo equivalente, pari invece a\n",
        "$consumption\\_new[i] =  consumption\\_deviation[i] +  consumption[i] + consumption\\_deviation[i+1]$\n",
        "\n",
        "Ovvero il peso di ogni arco tra nodi successivi è pari al costo della deviazione del nodo di partenza, il costo del tragitto tra i due nodi e il costo della deviazione del nodo di arrivo (i nodi di arrivo sono quelli che nel problema originale erano $i'$)\n"
      ]
    },
    {
      "cell_type": "code",
      "execution_count": 32,
      "id": "NAk7cwB25Ukr",
      "metadata": {
        "colab": {
          "base_uri": "https://localhost:8080/"
        },
        "id": "NAk7cwB25Ukr",
        "outputId": "c33ba76f-4eb5-4f0b-9797-daf307463c77"
      },
      "outputs": [
        {
          "name": "stdout",
          "output_type": "stream",
          "text": [
            "{(0, 1): 1.1, (0, 2): 22.900000000000002, (1, 2): 21.8, (2, 3): 33.1, (2, 4): 45.400000000000006, (3, 4): 12.3, (4, 5): 40.0, (5, 6): 10.9, (5, 7): 27.200000000000003, (6, 7): 16.3, (6, 8): 39.2, (6, 9): 46.2, (7, 8): 22.9, (7, 9): 29.9, (8, 9): 7.0, (8, 10): 46.1, (9, 10): 39.1, (10, 11): 20.9, (10, 12): 46.099999999999994, (11, 12): 25.2, (11, 13): 31.0, (12, 13): 5.8, (12, 14): 35.1, (13, 14): 29.3, (14, 15): 25.400000000000002, (14, 16): 25.500000000000004, (15, 16): 0.1}\n"
          ]
        }
      ],
      "source": [
        "#build the equivalent graph\n",
        "\n",
        "# Il grafo equivalente è G = (N, A)\n",
        "# N = {s,1',...,n',t} ovvero s,t e i POI\n",
        "# A = {(i,j): i<j, b_ij < delta per ogni (i,j) in A } quindi il grafo è aciclico\n",
        "# e dove b rappresenta il consumo tra due nodi, in particolare b_i,i+1 = (guarda foto telegram)\n",
        "\n",
        "#define the set of nodes\n",
        "V = [i for i in range(n+2)] # node 0 , node n+1 rappresentano rispettivamente s t\n",
        "\n",
        "# Updatating consuption array to take account of new V representation\n",
        "consumption.insert(0, 0)\n",
        "consumption.append(0)\n",
        "\n",
        "consumption_deviation.insert(0, 0)\n",
        "consumption_deviation.append(0)\n",
        "\n",
        "inst_cost.insert(0, 0)\n",
        "inst_cost.append(0)\n",
        "\n",
        "#come spiegato sopra, definiamo l'array consumption_new\n",
        "consumption_new = [consumption[i] + consumption_deviation[i] + consumption_deviation[i+1] for i in range(n+1)]\n",
        "\n",
        "\n",
        "#define the set of edges\n",
        "#tutti gli archi validi hanno la somma dei consumi dal nodo di partenza al nodo di arrivo minore o uguale a DELTA\n",
        "A = {(i,j): sum(consumption_new[i:j]) for i in range(n+1) for j in range(i+1, n+2) if sum(consumption_new[i:j])<=delta }\n",
        "print(A)\n"
      ]
    },
    {
      "cell_type": "markdown",
      "id": "ccaf4fb0",
      "metadata": {
        "id": "ccaf4fb0"
      },
      "source": [
        "## MODELLO\n",
        "\n",
        "Per modelizzare il problema, abbiamo dichiarato la variabile binaria $ y \\in \\{0,1\\}$  che vale 1 se l'arco viene considerato o 0 altrimenti.\n",
        "Il vettore dei termini noti b serve per esprimere il vincolo di passare per tutte le stazioni, ovvero: $\\forall i \\in V$ la somma degli archi entranti da un nodo meno la somma di quelli uscenti deve essere uguale a b[i].\n",
        "La funzione obiettivo vuole minimizzare il costo di installazione delle stazioni nei POI."
      ]
    },
    {
      "cell_type": "code",
      "execution_count": 33,
      "id": "F29pxMjAT7n5",
      "metadata": {
        "colab": {
          "base_uri": "https://localhost:8080/",
          "height": 373
        },
        "id": "F29pxMjAT7n5",
        "outputId": "79321bdb-44cc-497e-8a86-64e4349e2684"
      },
      "outputs": [
        {
          "name": "stdout",
          "output_type": "stream",
          "text": [
            "Starting solution of the Linear programming relaxation problem using Primal Simplex\n",
            "\n",
            "Coin0506I Presolve 6 (-11) rows, 10 (-17) columns and 20 (-34) elements\n",
            "Clp1000I sum of infeasibilities 0 - average 0, 10 fixed columns\n",
            "Coin0506I Presolve 0 (-6) rows, 0 (-10) columns and 0 (-20) elements\n",
            "Clp0000I Optimal - objective value 12348\n",
            "Clp0000I Optimal - objective value 12348\n",
            "Coin0511I After Postsolve, objective 12348, infeasibilities - dual 0 (0), primal 0 (0)\n",
            "Clp0006I 0  Obj 12348 Dual inf 3250 (2)\n",
            "Clp0000I Optimal - objective value 12348\n",
            "Clp0000I Optimal - objective value 12348\n",
            "Clp0000I Optimal - objective value 12348\n",
            "Coin0511I After Postsolve, objective 12348, infeasibilities - dual 0 (0), primal 0 (0)\n",
            "Clp0032I Optimal objective 12348 - 0 iterations time 0.002, Presolve 0.00, Idiot 0.00\n",
            "\n",
            "Starting MIP optimization\n",
            "Cgl0003I 0 fixed, 0 tightened bounds, 0 strengthened rows, 1 substitutions\n",
            "Cgl0004I processed model has 2 rows, 3 columns (3 integer (3 of which binary)) and 6 elements\n",
            "Coin3009W Conflict graph built in 0.000 seconds, density: 28.571%\n",
            "Cgl0015I Clique Strengthening extended 0 cliques, 0 were dominated\n",
            "Cbc0045I Nauty did not find any useful orbits in time 2.5e-05\n",
            "Cbc0038I Initial state - 0 integers unsatisfied sum - 0\n",
            "Cbc0038I Solution found of 12348\n",
            "Cbc0038I Before mini branch and bound, 3 integers at bound fixed and 0 continuous\n",
            "Cbc0038I Mini branch and bound did not improve solution (0.00 seconds)\n",
            "Cbc0038I After 0.00 seconds - Feasibility pump exiting with objective of 12348 - took 0.00 seconds\n",
            "Cbc0012I Integer solution of 12348 found by feasibility pump after 0 iterations and 0 nodes (0.00 seconds)\n",
            "Cbc0001I Search completed - best objective 12348, took 0 iterations and 0 nodes (0.00 seconds)\n",
            "Cbc0035I Maximum depth 0, 0 variables fixed on reduced cost\n",
            "Total time (CPU seconds):       0.00   (Wallclock seconds):       0.00\n",
            "\n",
            "2\n",
            "4\n",
            "5\n",
            "7\n",
            "8\n",
            "10\n",
            "12\n",
            "14\n",
            "[2, 4, 5, 7, 8, 10, 12, 14]\n"
          ]
        }
      ],
      "source": [
        "import mip\n",
        "\n",
        "# Create model\n",
        "m = mip.Model()\n",
        "\n",
        "# define the variable\n",
        "\n",
        "# variabili archi\n",
        "y = {i: m.add_var(var_type=mip.BINARY) for i in A }\n",
        "\n",
        "#  define the contraints\n",
        "\n",
        "# vincolo per indicare il passaggio per tutte le stazioni\n",
        "b = {i: 0 for i in V}\n",
        "b[s] = -1 # first node\n",
        "b[t] = 1 # last node\n",
        "\n",
        "for i in V:\n",
        "    m.add_constr(mip.xsum(y[(j,i)] for j in V if (j,i) in A)-(mip.xsum(y[(i,j)] for j in V if (i,j) in A)) == b[i])\n",
        "\n",
        "#Funzione Obiettivo\n",
        "# minimize cost of installation\n",
        "m.objective = mip.minimize(\n",
        "    mip.xsum(inst_cost[i]*y[(i,j)] for (i,j) in A)\n",
        ")\n",
        "\n",
        "# in 0 viene messa di Deafult una stazione in quanto il costo di installazione è 0 per simulare l'autonomia di partenza = delta\n",
        "#Per comodità di lettura, evitiamo di stamparla\n",
        "\n",
        "m.optimize()\n",
        "\n",
        "res = []\n",
        "for (i,j) in A:\n",
        "    if(y[(i,j)].x > 0.9 and y[(i,j)].x < 1.1):\n",
        "        if(i>0):\n",
        "            print(i)\n",
        "            res.append(i)\n",
        "print(res)"
      ]
    },
    {
      "cell_type": "code",
      "execution_count": 34,
      "id": "tf36urfdmSM0",
      "metadata": {
        "colab": {
          "base_uri": "https://localhost:8080/"
        },
        "id": "tf36urfdmSM0",
        "outputId": "e9e79384-bc8e-4eca-f17a-50f4a34b7b98"
      },
      "outputs": [
        {
          "name": "stdout",
          "output_type": "stream",
          "text": [
            "12348.0\n"
          ]
        }
      ],
      "source": [
        "print(m.objective_value)"
      ]
    },
    {
      "cell_type": "markdown",
      "id": "yXjKTi1Vixh6",
      "metadata": {
        "id": "yXjKTi1Vixh6"
      },
      "source": [
        "### Visualizzazione del percorso\n",
        "Questa sezione è preposta alla visione dei POI in cui è necessario installare le stazioni.\n",
        "Abbiamo disegnato la rappresentazione equivalente del percorso."
      ]
    },
    {
      "cell_type": "code",
      "execution_count": 35,
      "id": "66aff509",
      "metadata": {
        "colab": {
          "base_uri": "https://localhost:8080/",
          "height": 534
        },
        "id": "66aff509",
        "outputId": "8066e8b1-adc1-4320-c1c5-5f202093d0ae"
      },
      "outputs": [
        {
          "data": {
            "text/plain": [
              "<matplotlib.collections.PathCollection at 0x7fa1c018f050>"
            ]
          },
          "execution_count": 35,
          "metadata": {},
          "output_type": "execute_result"
        },
        {
          "data": {
            "image/png": "[encoded data removed]",
            "text/plain": [
              "<Figure size 640x480 with 1 Axes>"
            ]
          },
          "metadata": {},
          "output_type": "display_data"
        }
      ],
      "source": [
        "#DISEGNA GRAFO\n",
        "G = nx.DiGraph()\n",
        "G.add_nodes_from(V)\n",
        "G.add_edges_from(A)\n",
        "labels = {i: (str(i) + '\\'') for i in V if i!=s and i!=t}\n",
        "labels[s] = 's'\n",
        "labels[t] = 't'\n",
        "pos = nx.spring_layout(G)  # layout per la disposizione dei nodi\n",
        "nx.draw(G, pos, with_labels=True, labels=labels)\n",
        "nx.draw_networkx_nodes(G,pos,nodelist=res,node_color='r')\n"
      ]
    },
    {
      "cell_type": "markdown",
      "id": "a1dd33de",
      "metadata": {
        "id": "a1dd33de"
      },
      "source": [
        "## Solution Problem 2"
      ]
    },
    {
      "cell_type": "markdown",
      "id": "bXlY_ABdhRLP",
      "metadata": {
        "id": "bXlY_ABdhRLP"
      },
      "source": [
        "## Considerazioni del Problema 2\n",
        "Per costruire il grafo equivalente valgono le stesse considerazioni scritte sopra del Problema 1.\n",
        "La differenza è che il nodo t (nodo di arrivo Problema 1) diventa il nodo sorgente, mentre s (nodo sorgente Problema 1) diventa il nodo destinazione.\n"
      ]
    },
    {
      "cell_type": "code",
      "execution_count": 36,
      "id": "b6ce091b",
      "metadata": {
        "id": "b6ce091b"
      },
      "outputs": [],
      "source": [
        "#data PROBLEM 2\n",
        "\n",
        "n = 15  # number of nodes on the main course\n",
        "n1 = 15 #number of touristic sites\n",
        "delta = 50  # max distance before recharge\n",
        "t = n+1   # starting point\n",
        "s = 0  # destination\n",
        "consumption = [12, 24, 7, 8, 35, 21, 19, 9, 31, 15, 21, 6, 23, 29] # consumption (in Wh) between two consecutive location along the main course\n",
        "consumption_deviation = [1.7, 2.1, 1.1, 0.3, 0.4, 2.3, 0.2, 0.9, 2.1, 4.3, 5.2, 0.1, 2.8, 0.9, 0.1] # consumption (in Wh) of the deviation\n",
        "\n",
        "#to compute the installation cost you have to bring the vector from the PROBLEM 1 and reverse it\n",
        "inst_cost = inst_cost[::-1]\n"
      ]
    },
    {
      "cell_type": "code",
      "execution_count": 37,
      "id": "f7bc8ae8",
      "metadata": {
        "id": "f7bc8ae8"
      },
      "outputs": [],
      "source": [
        "#build the equivalent graph\n",
        "\n",
        "# Il grafo equivalente è G = (N, A)\n",
        "# N = {t,1',...,n',s} ovvero t,s e i POI\n",
        "# A = {(i,j): i>j, b_ij < delta per ogni (i,j) in A } quindi il grafo è aciclico come prima.\n",
        "# dove la consumption_new rappresenta il consumo \"equivalente\" tra due nodi (come problema 1).\n",
        "\n",
        "#define the set of nodes\n",
        "V = [i for i in range(n+2)] # node 0 and node n+1 rappresentano risp. t e s\n",
        "\n",
        "# Updatating consuption array to take account of new V representation\n",
        "consumption.insert(0, 0)\n",
        "consumption.append(0)\n",
        "\n",
        "consumption_deviation.insert(0, 0)\n",
        "consumption_deviation.append(0)\n",
        "\n",
        "consumption_new = [consumption[i] + consumption_deviation[i] + consumption_deviation[i+1] for i in range(n+1)]\n",
        "\n",
        "#define the set of edges\n",
        "#Per indicizzare correttamente l'array consumption_new, essendo invariata la numerazione dei vertici, utilizziamo gli indici i,j per iterare l'array in reverse sottraendoli a t.\n",
        "A = {(i,j): sum(consumption_new[(t-i):(t-j)]) for i in range(t,s,-1) for j in range(i-1, s-1, -1) if sum(consumption_new[(t-i):(t-j)])<=delta }"
      ]
    },
    {
      "cell_type": "code",
      "execution_count": 38,
      "id": "ed20359d",
      "metadata": {
        "colab": {
          "base_uri": "https://localhost:8080/"
        },
        "id": "ed20359d",
        "outputId": "5bd14587-b677-4e22-a330-be8eaeaaef55"
      },
      "outputs": [
        {
          "name": "stdout",
          "output_type": "stream",
          "text": [
            "Starting solution of the Linear programming relaxation problem using Primal Simplex\n",
            "\n",
            "Coin0506I Presolve 7 (-10) rows, 13 (-16) columns and 26 (-32) elements\n",
            "Clp1000I sum of infeasibilities 0 - average 0, 13 fixed columns\n",
            "Coin0506I Presolve 0 (-7) rows, 0 (-13) columns and 0 (-26) elements\n",
            "Clp0000I Optimal - objective value 13034\n",
            "Clp0000I Optimal - objective value 13034\n",
            "Coin0511I After Postsolve, objective 13034, infeasibilities - dual 0 (0), primal 0 (0)\n",
            "Clp0006I 0  Obj 13034 Dual inf 4906 (3)\n",
            "Clp0000I Optimal - objective value 13034\n",
            "Clp0000I Optimal - objective value 13034\n",
            "Clp0000I Optimal - objective value 13034\n",
            "Coin0511I After Postsolve, objective 13034, infeasibilities - dual 0 (0), primal 0 (0)\n",
            "Clp0032I Optimal objective 13034 - 0 iterations time 0.002, Presolve 0.00, Idiot 0.00\n",
            "\n",
            "Starting MIP optimization\n",
            "Cgl0003I 0 fixed, 0 tightened bounds, 0 strengthened rows, 1 substitutions\n",
            "Cgl0004I processed model has 5 rows, 10 columns (10 integer (10 of which binary)) and 18 elements\n",
            "Coin3009W Conflict graph built in 0.000 seconds, density: 10.952%\n",
            "Cgl0015I Clique Strengthening extended 0 cliques, 0 were dominated\n",
            "Cbc0045I Nauty did not find any useful orbits in time 4.9e-05\n",
            "Cbc0038I Initial state - 0 integers unsatisfied sum - 0\n",
            "Cbc0038I Solution found of 13034\n",
            "Cbc0038I Before mini branch and bound, 10 integers at bound fixed and 0 continuous\n",
            "Cbc0038I Mini branch and bound did not improve solution (0.00 seconds)\n",
            "Cbc0038I After 0.00 seconds - Feasibility pump exiting with objective of 13034 - took 0.00 seconds\n",
            "Cbc0012I Integer solution of 13034 found by feasibility pump after 0 iterations and 0 nodes (0.00 seconds)\n",
            "Cbc0001I Search completed - best objective 13034, took 0 iterations and 0 nodes (0.00 seconds)\n",
            "Cbc0035I Maximum depth 0, 0 variables fixed on reduced cost\n",
            "Total time (CPU seconds):       0.00   (Wallclock seconds):       0.00\n",
            "\n",
            "14\n",
            "11\n",
            "10\n",
            "8\n",
            "6\n",
            "5\n",
            "4\n",
            "2\n",
            "[14, 11, 10, 8, 6, 5, 4, 2]\n"
          ]
        }
      ],
      "source": [
        "import mip\n",
        "\n",
        "# Create model\n",
        "m = mip.Model()\n",
        "\n",
        "# define the variable\n",
        "\n",
        "# variabili archi\n",
        "y = {i: m.add_var(var_type=mip.BINARY) for i in A }\n",
        "\n",
        "#  define the contraints\n",
        "\n",
        "# vincolo passo per tutte le stazioni\n",
        "# rispetto al problema 1 invertiamo i valori di b[s] e b[t] in quanto s è diventato il nuovo punto di arrivo\n",
        "b = {i: 0 for i in V}\n",
        "b[s] = 1\n",
        "b[t] = -1\n",
        "\n",
        "for i in V:\n",
        "    m.add_constr(mip.xsum(y[(j,i)] for j in V if (j,i) in A)-(mip.xsum(y[(i,j)] for j in V if (i,j) in A)) == b[i])\n",
        "\n",
        "# minimize cost of installation\n",
        "m.objective = mip.minimize(\n",
        "    mip.xsum(inst_cost[i]*y[(i,j)] for (i,j) in A)\n",
        ")\n",
        "#Anche in questo caso per simulare la partenza da t con autonomia = delta la stazione 16 (t) viene scelta sempre avendo costo 0.\n",
        "#Per comodità di lettura, evitiamo di stamparla\n",
        "m.optimize()\n",
        "res2 = []\n",
        "for (i,j) in A:\n",
        "    if(y[(i,j)].x > 0.9 and y[(i,j)].x < 1.1):\n",
        "      if(i<16):\n",
        "        print(i)\n",
        "        res2.append(i)\n",
        "\n",
        "print(res2)\n"
      ]
    },
    {
      "cell_type": "code",
      "execution_count": 39,
      "id": "303952ca",
      "metadata": {
        "colab": {
          "base_uri": "https://localhost:8080/"
        },
        "id": "303952ca",
        "outputId": "6b84b054-9bd9-4440-d504-c974e22a1a1d"
      },
      "outputs": [
        {
          "name": "stdout",
          "output_type": "stream",
          "text": [
            "13034.0\n"
          ]
        }
      ],
      "source": [
        "print(m.objective_value)"
      ]
    },
    {
      "cell_type": "code",
      "execution_count": 40,
      "id": "6b00a9b0",
      "metadata": {
        "id": "6b00a9b0"
      },
      "outputs": [
        {
          "data": {
            "text/plain": [
              "<matplotlib.collections.PathCollection at 0x7fa1b4d4f5c0>"
            ]
          },
          "execution_count": 40,
          "metadata": {},
          "output_type": "execute_result"
        },
        {
          "data": {
            "image/png": "[encoded data removed]",
            "text/plain": [
              "<Figure size 640x480 with 1 Axes>"
            ]
          },
          "metadata": {},
          "output_type": "display_data"
        }
      ],
      "source": [
        "#DISEGNA GRAFO\n",
        "G = nx.DiGraph()\n",
        "G.add_nodes_from(V)\n",
        "G.add_edges_from(A)\n",
        "labels = {i: (str(i) + '\\'') for i in V if i!=s and i!=t}\n",
        "labels[s] = 's'\n",
        "labels[t] = 't'\n",
        "pos = nx.spring_layout(G)  # layout per la disposizione dei nodi\n",
        "nx.draw(G, pos, with_labels=True, labels=labels)\n",
        "nx.draw_networkx_nodes(G,pos,nodelist=res2,node_color='r')\n"
      ]
    },
    {
      "cell_type": "markdown",
      "id": "bd2f07f2",
      "metadata": {
        "id": "bd2f07f2"
      },
      "source": [
        "## Comment\n",
        "\n",
        "Do you obtain the same solution? Why?"
      ]
    },
    {
      "cell_type": "markdown",
      "id": "58f4968a",
      "metadata": {
        "id": "58f4968a"
      },
      "source": [
        "Non otteniamo la stessa soluzione perché i percorsi non hanno consumi simmetrici. \n",
        "Questo è giustificabile fisicamente, ad esempio, perché una stessa strada se è in pendenza può avere un consumo energetico diverso in base al verso di percorrenza.\n",
        "Inoltre, un altro effetto del cambio di verso di percorrenza è che, sempre a causa dei consumi diversi, con la stessa ricarica posso percorrere un tragitto diverso."
      ]
    }
  ],
  "metadata": {
    "colab": {
      "provenance": []
    },
    "kernelspec": {
      "display_name": "Python 3 (ipykernel)",
      "language": "python",
      "name": "python3"
    },
    "language_info": {
      "codemirror_mode": {
        "name": "ipython",
        "version": 3
      },
      "file_extension": ".py",
      "mimetype": "text/x-python",
      "name": "python",
      "nbconvert_exporter": "python",
      "pygments_lexer": "ipython3",
      "version": "3.12.3"
    }
  },
  "nbformat": 4,
  "nbformat_minor": 5
}
