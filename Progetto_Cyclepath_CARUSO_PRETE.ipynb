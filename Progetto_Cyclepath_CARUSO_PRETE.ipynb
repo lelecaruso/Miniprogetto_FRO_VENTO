{
  "cells": [
    {
      "cell_type": "markdown",
      "id": "71e8cba3",
      "metadata": {
        "id": "71e8cba3"
      },
      "source": [
        "# Optimal charging station location on a cycleway\n",
        "\n",
        "\n",
        "Consider a long linear cycle path  as Vento (VENezia-TOrino), or the Danube cycle path. The cycle path usually runs along the banks of a river with scarse tourist interest. However, from the main course of the cycle path it is possible to reach places of tourist interest by making small detours.  \n",
        "\n",
        "The rapid growth of e-bike ridership is proposing the problem of deploying a suitable charging infrastructure. The charging stations should be placed in strategic positions so as to guarantee a coverage of the whole cycle path. However, since the charging operations require a non negligible time, the charging station should be positioned in places where alternative activities could be carried out, as restaurants, museums, swimming pool, or other amenities. These places, called **Points of Interest (POI)**  are not on the main trajectory of the cyclepath, but the bikers must deviate to reach them.\n",
        "\n",
        "We assume that the bikers enter the cyclepath where it begins and finish the trip ath the end of the cyclepath. When they enter the battery is fully charged. Moreover, the bikers will make all possible deviations in order to visit all the POIs.\n",
        "\n",
        "\n",
        "\n",
        "\n",
        "\n"
      ]
    },
    {
      "cell_type": "markdown",
      "id": "65d91fd2",
      "metadata": {
        "id": "65d91fd2"
      },
      "source": [
        "## Formulation\n",
        "\n",
        "To support the formulation we make use of a graph with $2n+2$ nodes.\n",
        "Nodes $s$ and $t$ represent the extremes of the cyclepath.\n",
        "\n",
        "Nodes\n",
        "\n",
        "*   $L = \\{1,\\ldots,n\\}$:  locations along the cyclepath from which bikers deviate\n",
        "\n",
        "\n",
        "*   $H = \\{1',\\ldots, n'\\}$:  POIs that may host a charging station.\n",
        "\n",
        "*   $\\{s,t\\}$: extremes of the cyclepath.\n",
        "\n",
        "Arcs\n",
        "\n",
        "*  $\\{(i,i+1), (i+1, i) 1,\\ldots,n \\}$: arcs of the cyclepath in the two directions\n",
        "\n",
        "*  $\\{(i,i'), (i',i), i\\in L, i'\\in H\\}$: arcs representing the deviations from the cyclepath\n",
        "\n",
        "### Example of the graph\n",
        "![picture](https://drive.google.com/file/d/1A4dSP-4K1E3jwaab4A8JT21TKD7FINaK/view?usp=drive_link)\n",
        "\n",
        "### Parameters\n",
        "\n",
        "*   $d_{i,i+1}, d_{i+1,i}, i=1,\\ldots,n-1$: energy consumption between consecutive nodes,\n",
        "*   $d_{i,i'}, d_{i',i}, i \\in L, i'\\in H$: energy consumption for the deviations\n",
        "*   $c_i'$: cost of installing a charging station in site $i' \\in H$\n",
        "*   $\\Delta$: maximum energy consumption between consecutive charging stations\n",
        "\n",
        "We assume that $d_{s,1} d_{1,s} = d_{n,t} = d_{t,n} = 0$.\n",
        "Note that the energy consumption on each arc can be different in the two directions, depending on the orography.\n",
        "\n",
        "\n",
        "\n",
        "\n",
        "\n",
        "\n"
      ]
    },
    {
      "cell_type": "markdown",
      "id": "starting-attachment",
      "metadata": {
        "id": "starting-attachment"
      },
      "source": [
        "## Problem 1\n",
        "\n",
        "Consider a biker that traverses the cyclepath from $s$ to $t$, determine in which nodes of $H$ to install the charging stations so that the maximum energy consumption between two consecutive charging stations is no more than $\\Delta$ and minimize the overall cost.\n",
        "\n",
        "\n",
        "\n",
        "## Problem 2\n",
        "\n",
        "Consider a biker that traverses the cyclepath from $t$ to $s$, determine in which nodes of $H$ to install the charging stations so that the maximum energy consumption between two consecutive charging stations is no more than $\\Delta$ and minimize the overall cost.\n",
        "\n",
        "### Comments\n",
        "Do you obtain the same solution? Why?\n",
        "\n",
        "### Recommendation\n",
        "The problems can be solved by a simple formulation. The solution of complex problems as the TSP is not necessary.\n",
        "Do not use external libraries apart from those presented in class.\n",
        "\n"
      ]
    },
    {
      "cell_type": "markdown",
      "id": "fbd50503",
      "metadata": {
        "id": "fbd50503"
      },
      "source": [
        "## EMANUELE CARUSO, ANGELO PRETE\n",
        "Risoluzione del progetto di Laboratorio"
      ]
    },
    {
      "cell_type": "code",
      "execution_count": 1,
      "id": "6ac6b084",
      "metadata": {
        "colab": {
          "base_uri": "https://localhost:8080/"
        },
        "id": "6ac6b084",
        "outputId": "c1cab880-f7f5-4c87-f459-f05602cd87ae"
      },
      "outputs": [
        {
          "name": "stdout",
          "output_type": "stream",
          "text": [
            "Defaulting to user installation because normal site-packages is not writeable\n",
            "Requirement already satisfied: mip in /home/angelo/.local/lib/python3.12/site-packages (1.14.2)\n",
            "Requirement already satisfied: cffi==1.15.0 in /home/angelo/.local/lib/python3.12/site-packages (from mip) (1.15.0)\n",
            "Requirement already satisfied: pycparser in /usr/lib/python3.12/site-packages (from cffi==1.15.0->mip) (2.20)\n",
            "Requirement already satisfied: ply==3.11 in /usr/lib/python3.12/site-packages (from pycparser->cffi==1.15.0->mip) (3.11)\n",
            "Defaulting to user installation because normal site-packages is not writeable\n",
            "Requirement already satisfied: cffi==1.15.0 in /home/angelo/.local/lib/python3.12/site-packages (1.15.0)\n",
            "Requirement already satisfied: pycparser in /usr/lib/python3.12/site-packages (from cffi==1.15.0) (2.20)\n",
            "Requirement already satisfied: ply==3.11 in /usr/lib/python3.12/site-packages (from pycparser->cffi==1.15.0) (3.11)\n"
          ]
        }
      ],
      "source": [
        "#import libraries\n",
        "\n",
        "!pip install mip\n",
        "!pip install --upgrade cffi==1.15.0\n",
        "import importlib\n",
        "import cffi\n",
        "importlib.reload(cffi)\n",
        "import numpy as np\n",
        "import math\n",
        "import networkx as nx"
      ]
    },
    {
      "cell_type": "markdown",
      "id": "1a51e636",
      "metadata": {
        "id": "1a51e636"
      },
      "source": [
        "## Solution Problem 1"
      ]
    },
    {
      "cell_type": "code",
      "execution_count": 2,
      "id": "k_M8hFS6Jyih",
      "metadata": {
        "id": "k_M8hFS6Jyih"
      },
      "outputs": [],
      "source": [
        "#data PROBLEM 1\n",
        "\n",
        "n = 15  # number of nodes on the main course\n",
        "n1 = 15 #number of touristic sites\n",
        "delta = 50  # max distance before recharge\n",
        "s = 0   # starting point\n",
        "t = n  # destination\n",
        "consumption = [20, 32, 11, 37, 7, 14, 22, 5, 35, 17, 23, 3, 26, 24] # consumption (in Wh) between two consecutive location along the main course\n",
        "consumption_deviation = [1.1, 0.7, 0.4, 0.9, 2.1, 1.8, 0.5, 0.4, 1.6, 2.5, 1.4, 0.8, 2.0, 1.3, 0.1] # consumption (in Wh) of the deviation\n",
        "inst_cost = [1492, 1789, 1914, 1861, 1348, 1769, 1123, 1432, 1564, 1818, 1901, 1265, 1642, 1712, 1756] #cost (in €) of installation of a charging point related to the node"
      ]
    },
    {
      "cell_type": "markdown",
      "id": "53c3e103",
      "metadata": {
        "id": "53c3e103"
      },
      "source": [
        "### Modifica dei dati\n",
        "\n",
        "Seguendo l'immagine lasciata in allegato alla traccia, abbiamo deciso per semplificare l'implementazione di considerare l'insieme dei nodi $N = \\{s,1',\\ldots,n',t\\}$ e quindi l'uscita dal cycle path sarà nel nodo $t = n+1$ e non $t=n$, non modifichiamo i dati del problema ma nel codice quando serve sommiamo $1$ a $t$.\n",
        "\n",
        "Inoltre, per coerenza, abbiamo aggiunto agli array consumption e consumption_deviation i consumi fittizzi di $s$ e $t$ pari a $0$. Questo vale anche per i costi di installazione. Come vedremo, infatti, per considerare la bici carica all'inizio il costo di installazione in $s$ (e nel problema 2 in $t$) è $0$ e viene sempre scelta nella soluzione ottima (anche se lo tagliamo via dalla stampa finale del risultato).\n",
        "\n",
        "### Grafo equivalente\n",
        "\n",
        "Assumendo che la consumption della deviazione debba essere considerato sia verso il POI che al ritorno verso la tappa corrispondente al POI, abbiamo deciso di costruire il grafo nel seguente modo:\n",
        "\n",
        "il grafo equivalente è $G = (N, A)$ con $N = \\{s,1',...,n',t\\}$ ovvero $s$,$t$ e i POI.\n",
        "\n",
        "l'insieme degli archi è $A = {(i,j): i<j, b_{ij} < \\Delta , \\forall (i,j) \\in A }$ quindi il grafo è aciclico\n",
        "\n",
        "$b$ rappresenta il consumo totale tra due nodi pari alla somma delle consumption_new del grafo equivalente, pari invece a\n",
        "$consumption\\_new[i] =  consumption\\_deviation[i] +  consumption[i] + consumption\\_deviation[i+1]$\n",
        "\n",
        "Ovvero il peso di ogni arco tra nodi successivi è pari al costo della deviazione del nodo di partenza, il costo del tragitto tra i due nodi e il costo della deviazione del nodo di arrivo (i nodi di arrivo sono quelli che nel problema originale erano $i'$)\n"
      ]
    },
    {
      "cell_type": "code",
      "execution_count": 3,
      "id": "NAk7cwB25Ukr",
      "metadata": {
        "colab": {
          "base_uri": "https://localhost:8080/"
        },
        "id": "NAk7cwB25Ukr",
        "outputId": "c33ba76f-4eb5-4f0b-9797-daf307463c77"
      },
      "outputs": [
        {
          "name": "stdout",
          "output_type": "stream",
          "text": [
            "{(0, 1): 1.1, (0, 2): 22.900000000000002, (1, 2): 21.8, (2, 3): 33.1, (2, 4): 45.400000000000006, (3, 4): 12.3, (4, 5): 40.0, (5, 6): 10.9, (5, 7): 27.200000000000003, (6, 7): 16.3, (6, 8): 39.2, (6, 9): 46.2, (7, 8): 22.9, (7, 9): 29.9, (8, 9): 7.0, (8, 10): 46.1, (9, 10): 39.1, (10, 11): 20.9, (10, 12): 46.099999999999994, (11, 12): 25.2, (11, 13): 31.0, (12, 13): 5.8, (12, 14): 35.1, (13, 14): 29.3, (14, 15): 25.400000000000002, (14, 16): 25.500000000000004, (15, 16): 0.1}\n"
          ]
        }
      ],
      "source": [
        "#build the equivalent graph\n",
        "\n",
        "# Il grafo equivalente è G = (N, A)\n",
        "# N = {s,1',...,n',t} ovvero s,t e i POI\n",
        "# A = {(i,j): i<j, b_ij < delta per ogni (i,j) in A } quindi il grafo è aciclico\n",
        "# e dove b rappresenta il consumo tra due nodi, in particolare b_i,i+1 = (guarda foto telegram)\n",
        "\n",
        "#define the set of nodes\n",
        "V = [i for i in range(n+2)] # node 0 , node n+1 rappresentano rispettivamente s t\n",
        "\n",
        "# Updatating consuption array to take account of new V representation\n",
        "consumption.insert(0, 0)\n",
        "consumption.append(0)\n",
        "\n",
        "consumption_deviation.insert(0, 0)\n",
        "consumption_deviation.append(0)\n",
        "\n",
        "inst_cost.insert(0, 0)\n",
        "inst_cost.append(0)\n",
        "\n",
        "#come spiegato sopra, definiamo l'array consumption_new\n",
        "consumption_new = [consumption[i] + consumption_deviation[i] + consumption_deviation[i+1] for i in range(n+1)]\n",
        "\n",
        "\n",
        "#define the set of edges\n",
        "#tutti gli archi validi hanno la somma dei consumi dal nodo di partenza al nodo di arrivo minore o uguale a DELTA\n",
        "A = {(i,j): sum(consumption_new[i:j]) for i in range(n+1) for j in range(i+1, n+2) if sum(consumption_new[i:j])<=delta }\n",
        "print(A)\n"
      ]
    },
    {
      "cell_type": "markdown",
      "id": "ccaf4fb0",
      "metadata": {
        "id": "ccaf4fb0"
      },
      "source": [
        "## MODELLO\n",
        "\n",
        "Per modelizzare il problema, abbiamo dichiarato la variabile binaria $ y \\in \\{0,1\\}$  che vale 1 se l'arco viene considerato o 0 altrimenti.\n",
        "Il vettore dei termini noti b serve per esprimere il vincolo di passare per tutte le stazioni una volta, ovvero: $\\forall i \\in V$ la somma degli archi entranti da un nodo meno la somma di quelli uscenti deve essere uguale a b[i].\n",
        "La funzione obiettivo vuole minimizzare il costo di installazione delle stazioni nei POI."
      ]
    },
    {
      "cell_type": "code",
      "execution_count": 4,
      "id": "F29pxMjAT7n5",
      "metadata": {
        "colab": {
          "base_uri": "https://localhost:8080/",
          "height": 373
        },
        "id": "F29pxMjAT7n5",
        "outputId": "79321bdb-44cc-497e-8a86-64e4349e2684"
      },
      "outputs": [
        {
          "name": "stdout",
          "output_type": "stream",
          "text": [
            "Welcome to the CBC MILP Solver \n",
            "Version: Trunk\n",
            "Build Date: Oct 24 2021 \n",
            "\n",
            "Starting solution of the Linear programming relaxation problem using Primal Simplex\n",
            "\n",
            "Coin0506I Presolve 6 (-11) rows, 10 (-17) columns and 20 (-34) elements\n",
            "Clp1000I sum of infeasibilities 0 - average 0, 10 fixed columns\n",
            "Coin0506I Presolve 0 (-6) rows, 0 (-10) columns and 0 (-20) elements\n",
            "Clp0000I Optimal - objective value 12348\n",
            "Clp0000I Optimal - objective value 12348\n",
            "Coin0511I After Postsolve, objective 12348, infeasibilities - dual 0 (0), primal 0 (0)\n",
            "Clp0000I Optimal - objective value 12348\n",
            "Clp0000I Optimal - objective value 12348\n",
            "Clp0000I Optimal - objective value 12348\n",
            "Coin0511I After Postsolve, objective 12348, infeasibilities - dual 0 (0), primal 0 (0)\n",
            "Clp0032I Optimal objective 12348 - 0 iterations time 0.002, Presolve 0.00, Idiot 0.00\n",
            "\n",
            "Starting MIP optimization\n",
            "Cgl0003I 0 fixed, 0 tightened bounds, 0 strengthened rows, 1 substitutions\n",
            "Cgl0004I processed model has 2 rows, 3 columns (3 integer (3 of which binary)) and 6 elements\n",
            "Coin3009W Conflict graph built in 0.000 seconds, density: 28.571%\n",
            "Cgl0015I Clique Strengthening extended 0 cliques, 0 were dominated\n",
            "Cbc0045I Nauty did not find any useful orbits in time 0\n",
            "Cbc0038I Initial state - 0 integers unsatisfied sum - 0\n",
            "Cbc0038I Solution found of 12348\n",
            "Cbc0038I Before mini branch and bound, 3 integers at bound fixed and 0 continuous\n",
            "Cbc0038I Mini branch and bound did not improve solution (0.00 seconds)\n",
            "Cbc0038I After 0.00 seconds - Feasibility pump exiting with objective of 12348 - took 0.00 seconds\n",
            "Cbc0012I Integer solution of 12348 found by feasibility pump after 0 iterations and 0 nodes (0.00 seconds)\n",
            "Cbc0001I Search completed - best objective 12348, took 0 iterations and 0 nodes (0.00 seconds)\n",
            "Cbc0035I Maximum depth 0, 0 variables fixed on reduced cost\n",
            "Total time (CPU seconds):       0.00   (Wallclock seconds):       0.00\n",
            "\n",
            "[2, 4, 5, 7, 8, 10, 12, 14]\n"
          ]
        }
      ],
      "source": [
        "import mip\n",
        "\n",
        "# Create model\n",
        "m = mip.Model()\n",
        "\n",
        "# define the variable\n",
        "\n",
        "# variabili archi\n",
        "y = {i: m.add_var(var_type=mip.BINARY) for i in A }\n",
        "\n",
        "#  define the contraints\n",
        "\n",
        "# vincolo per indicare il passaggio per tutte le stazioni\n",
        "b = {i: 0 for i in V}\n",
        "b[s] = -1 # first node\n",
        "b[t+1] = 1 # last node\n",
        "\n",
        "for i in V:\n",
        "    m.add_constr(mip.xsum(y[(j,i)] for j in V if (j,i) in A)-(mip.xsum(y[(i,j)] for j in V if (i,j) in A)) == b[i])\n",
        "\n",
        "#Funzione Obiettivo\n",
        "# minimize cost of installation\n",
        "m.objective = mip.minimize(\n",
        "    mip.xsum(inst_cost[i]*y[(i,j)] for (i,j) in A)\n",
        ")\n",
        "\n",
        "# in 0 viene messa di Deafult una stazione in quanto il costo di installazione è 0 per simulare l'autonomia di partenza = delta\n",
        "#Per comodità di lettura, evitiamo di stamparla\n",
        "\n",
        "m.optimize()\n",
        "\n",
        "res = []\n",
        "for (i,j) in A:\n",
        "    if(y[(i,j)].x > 0.9 and y[(i,j)].x < 1.1):\n",
        "        if(i>0):\n",
        "            res.append(i)\n",
        "print(res)"
      ]
    },
    {
      "cell_type": "code",
      "execution_count": 5,
      "id": "tf36urfdmSM0",
      "metadata": {
        "colab": {
          "base_uri": "https://localhost:8080/"
        },
        "id": "tf36urfdmSM0",
        "outputId": "e9e79384-bc8e-4eca-f17a-50f4a34b7b98"
      },
      "outputs": [
        {
          "name": "stdout",
          "output_type": "stream",
          "text": [
            "12348.0\n"
          ]
        }
      ],
      "source": [
        "print(m.objective_value)"
      ]
    },
    {
      "cell_type": "markdown",
      "id": "yXjKTi1Vixh6",
      "metadata": {
        "id": "yXjKTi1Vixh6"
      },
      "source": [
        "### Visualizzazione del percorso\n",
        "Questa sezione è preposta alla visione dei POI in cui è necessario installare le stazioni.\n",
        "Abbiamo disegnato la rappresentazione equivalente del percorso."
      ]
    },
    {
      "cell_type": "code",
      "execution_count": 6,
      "id": "66aff509",
      "metadata": {
        "colab": {
          "base_uri": "https://localhost:8080/",
          "height": 534
        },
        "id": "66aff509",
        "outputId": "8066e8b1-adc1-4320-c1c5-5f202093d0ae"
      },
      "outputs": [
        {
          "name": "stdout",
          "output_type": "stream",
          "text": [
            "['s', '1', \"1'\", '2', \"2'\", '3', \"3'\", '4', \"4'\", '5', \"5'\", '6', \"6'\", '7', \"7'\", '8', \"8'\", '9', \"9'\", '10', \"10'\", '11', \"11'\", '12', \"12'\", '13', \"13'\", '14', \"14'\", '15', \"15'\"]\n",
            "{('1', \"1'\"): 1.1, (\"1'\", '1'): 1.1, ('2', \"2'\"): 0.7, (\"2'\", '2'): 0.7, ('3', \"3'\"): 0.4, (\"3'\", '3'): 0.4, ('4', \"4'\"): 0.9, (\"4'\", '4'): 0.9, ('5', \"5'\"): 2.1, (\"5'\", '5'): 2.1, ('6', \"6'\"): 1.8, (\"6'\", '6'): 1.8, ('7', \"7'\"): 0.5, (\"7'\", '7'): 0.5, ('8', \"8'\"): 0.4, (\"8'\", '8'): 0.4, ('9', \"9'\"): 1.6, (\"9'\", '9'): 1.6, ('10', \"10'\"): 2.5, (\"10'\", '10'): 2.5, ('11', \"11'\"): 1.4, (\"11'\", '11'): 1.4, ('12', \"12'\"): 0.8, (\"12'\", '12'): 0.8, ('13', \"13'\"): 2.0, (\"13'\", '13'): 2.0, ('14', \"14'\"): 1.3, (\"14'\", '14'): 1.3, ('15', \"15'\"): 0.1, (\"15'\", '15'): 0.1, ('s', '1'): 0, ('1', '2'): 20, ('2', '3'): 32, ('3', '4'): 11, ('4', '5'): 37, ('5', '6'): 7, ('6', '7'): 14, ('7', '8'): 22, ('8', '9'): 5, ('9', '10'): 35, ('10', '11'): 17, ('11', '12'): 23, ('12', '13'): 3, ('13', '14'): 26, ('14', '15'): 24, ('15', 't'): 0}\n"
          ]
        },
        {
          "data": {
            "text/plain": [
              "<matplotlib.collections.PathCollection at 0x7f77742ceb40>"
            ]
          },
          "execution_count": 6,
          "metadata": {},
          "output_type": "execute_result"
        },
        {
          "data": {
            "image/png": "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",
            "text/plain": [
              "<Figure size 640x480 with 1 Axes>"
            ]
          },
          "metadata": {},
          "output_type": "display_data"
        }
      ],
      "source": [
        "#DISEGNA GRAFO\n",
        "G = nx.DiGraph()\n",
        "\n",
        "vertici = []\n",
        "vertici.append(\"s\")\n",
        "for i in range(1,n+1):\n",
        "    vertici.append(str(i))\n",
        "    vertici.append(str(i) + '\\'')\n",
        "print(vertici)\n",
        "vertici.append(\"t\")\n",
        "\n",
        "archi = {}\n",
        "for i in range(1,n+1):\n",
        "    archi[(str(i), str(i) + '\\'')] = consumption_deviation[i]\n",
        "    archi[(str(i) + '\\'', str(i))] = consumption_deviation[i]\n",
        "for i in range(n+1):\n",
        "    if i==0:\n",
        "        archi[(\"s\", str(i+1))] = 0\n",
        "    elif i==n:\n",
        "        archi[(str(i), \"t\")] = 0\n",
        "    else:\n",
        "        archi[(str(i), str(i+1))] = consumption[i]\n",
        "print(archi)\n",
        "\n",
        "G.add_nodes_from(vertici)\n",
        "G.add_edges_from(archi)\n",
        "labels = {i: i for i in vertici}\n",
        "pos = nx.spring_layout(G)\n",
        "nx.draw(G, pos, with_labels=True, labels=labels)\n",
        "nx.draw_networkx_nodes(G,pos,nodelist=[str(i)+'\\'' for i in res],node_color='r')\n"
      ]
    },
    {
      "cell_type": "markdown",
      "id": "a1dd33de",
      "metadata": {
        "id": "a1dd33de"
      },
      "source": [
        "## Solution Problem 2"
      ]
    },
    {
      "cell_type": "markdown",
      "id": "bXlY_ABdhRLP",
      "metadata": {
        "id": "bXlY_ABdhRLP"
      },
      "source": [
        "## Considerazioni del Problema 2\n",
        "Per costruire il grafo equivalente valgono le stesse considerazioni scritte sopra del Problema 1.\n",
        "La differenza è che il nodo $t$ (nodo di arrivo Problema 1) diventa il nodo sorgente, mentre s (nodo sorgente Problema 1) diventa il nodo destinazione.\n"
      ]
    },
    {
      "cell_type": "code",
      "execution_count": 7,
      "id": "b6ce091b",
      "metadata": {
        "id": "b6ce091b"
      },
      "outputs": [],
      "source": [
        "#data PROBLEM 2\n",
        "\n",
        "n = 15  # number of nodes on the main course\n",
        "n1 = 15 #number of touristic sites\n",
        "delta = 50  # max distance before recharge\n",
        "t = n   # starting point\n",
        "s = 0  # destination\n",
        "consumption = [12, 24, 7, 8, 35, 21, 19, 9, 31, 15, 21, 6, 23, 29] # consumption (in Wh) between two consecutive location along the main course\n",
        "consumption_deviation = [1.7, 2.1, 1.1, 0.3, 0.4, 2.3, 0.2, 0.9, 2.1, 4.3, 5.2, 0.1, 2.8, 0.9, 0.1] # consumption (in Wh) of the deviation\n",
        "\n",
    
      ]
    },
    {
      "cell_type": "code",
      "execution_count": 8,
      "id": "f7bc8ae8",
      "metadata": {
        "id": "f7bc8ae8"
      },
      "outputs": [],
      "source": [
        "#build the equivalent graph\n",
        "\n",
        "# Il grafo equivalente è G = (N, A)\n",
        "# N = {t,1',...,n',s} ovvero t,s e i POI\n",
        "# A = {(i,j): i>j, b_ij < delta per ogni (i,j) in A } quindi il grafo è aciclico come prima.\n",
        "# dove la consumption_new rappresenta il consumo \"equivalente\" tra due nodi (come problema 1).\n",
        "\n",
        "#define the set of nodes\n",
        "V = [i for i in range(n+2)] # node 0 and node n+1 rappresentano risp. t e s\n",
        "\n",
        "# Updatating consuption array to take account of new V representation\n",
        "consumption.insert(0, 0)\n",
        "consumption.append(0)\n",
        "\n",
        "consumption_deviation.insert(0, 0)\n",
        "consumption_deviation.append(0)\n",
        "\n",
        "consumption_new = [consumption[i] + consumption_deviation[i] + consumption_deviation[i+1] for i in range(n+1)]\n",
        "\n",
        "#define the set of edges\n",
        "#Per indicizzare correttamente l'array consumption_new, essendo invariata la numerazione dei vertici, utilizziamo gli indici i,j per iterare l'array in reverse sottraendoli a t.\n",
        "A = {(i,j): sum(consumption_new[(t+1-i):(t+1-j)]) for i in range(t+1,s,-1) for j in range(i-1, s-1, -1) if sum(consumption_new[(t+1-i):(t+1-j)])<=delta }"
      ]
    },
    {
      "cell_type": "code",
      "execution_count": 9,
      "id": "ed20359d",
      "metadata": {
        "colab": {
          "base_uri": "https://localhost:8080/"
        },
        "id": "ed20359d",
        "outputId": "5bd14587-b677-4e22-a330-be8eaeaaef55"
      },
      "outputs": [
        {
          "name": "stdout",
          "output_type": "stream",
          "text": [
            "Starting solution of the Linear programming relaxation problem using Primal Simplex\n",
            "\n",
            "Coin0506I Presolve 7 (-10) rows, 13 (-16) columns and 26 (-32) elements\n",
            "Clp1000I sum of infeasibilities 0 - average 0, 13 fixed columns\n",
            "Coin0506I Presolve 0 (-7) rows, 0 (-13) columns and 0 (-26) elements\n",
            "Clp0000I Optimal - objective value 13034\n",
            "Clp0000I Optimal - objective value 13034\n",
            "Coin0511I After Postsolve, objective 13034, infeasibilities - dual 0 (0), primal 0 (0)\n",
            "Clp0006I 0  Obj 13034 Dual inf 4906 (3)\n",
            "Clp0000I Optimal - objective value 13034\n",
            "Clp0000I Optimal - objective value 13034\n",
            "Clp0000I Optimal - objective value 13034\n",
            "Coin0511I After Postsolve, objective 13034, infeasibilities - dual 0 (0), primal 0 (0)\n",
            "Clp0032I Optimal objective 13034 - 0 iterations time 0.002, Presolve 0.00, Idiot 0.00\n",
            "\n",
            "Starting MIP optimization\n",
            "Cgl0003I 0 fixed, 0 tightened bounds, 0 strengthened rows, 1 substitutions\n",
            "Cgl0004I processed model has 5 rows, 10 columns (10 integer (10 of which binary)) and 18 elements\n",
            "Coin3009W Conflict graph built in 0.000 seconds, density: 10.952%\n",
            "Cgl0015I Clique Strengthening extended 0 cliques, 0 were dominated\n",
            "Cbc0045I Nauty did not find any useful orbits in time 7.3e-05\n",
            "Cbc0038I Initial state - 0 integers unsatisfied sum - 0\n",
            "Cbc0038I Solution found of 13034\n",
            "Cbc0038I Before mini branch and bound, 10 integers at bound fixed and 0 continuous\n",
            "Cbc0038I Mini branch and bound did not improve solution (0.00 seconds)\n",
            "Cbc0038I After 0.00 seconds - Feasibility pump exiting with objective of 13034 - took 0.00 seconds\n",
            "Cbc0012I Integer solution of 13034 found by feasibility pump after 0 iterations and 0 nodes (0.00 seconds)\n",
            "Cbc0001I Search completed - best objective 13034, took 0 iterations and 0 nodes (0.00 seconds)\n",
            "Cbc0035I Maximum depth 0, 0 variables fixed on reduced cost\n",
            "Total time (CPU seconds):       0.01   (Wallclock seconds):       0.01\n",
            "\n",
            "14\n",
            "11\n",
            "10\n",
            "8\n",
            "6\n",
            "5\n",
            "4\n",
            "2\n",
            "[14, 11, 10, 8, 6, 5, 4, 2]\n"
          ]
        }
      ],
      "source": [
        "import mip\n",
        "\n",
        "# Create model\n",
        "m = mip.Model()\n",
        "\n",
        "# define the variable\n",
        "\n",
        "# variabili archi\n",
        "y = {i: m.add_var(var_type=mip.BINARY) for i in A }\n",
        "\n",
        "#  define the contraints\n",
        "\n",
        "# vincolo passo per tutte le stazioni\n",
        "# rispetto al problema 1 invertiamo i valori di b[s] e b[t] in quanto s è diventato il nuovo punto di arrivo\n",
        "b = {i: 0 for i in V}\n",
        "b[s] = 1\n",
        "b[t+1] = -1\n",
        "\n",
        "for i in V:\n",
        "    m.add_constr(mip.xsum(y[(j,i)] for j in V if (j,i) in A)-(mip.xsum(y[(i,j)] for j in V if (i,j) in A)) == b[i])\n",
        "\n",
        "# minimize cost of installation\n",
        "m.objective = mip.minimize(\n",
        "    mip.xsum(inst_cost[i]*y[(i,j)] for (i,j) in A)\n",
        ")\n",
        "#Anche in questo caso per simulare la partenza da t con autonomia = delta la stazione 16 (t) viene scelta sempre avendo costo 0.\n",
        "#Per comodità di lettura, evitiamo di stamparla\n",
        "m.optimize()\n",
        "res2 = []\n",
        "for (i,j) in A:\n",
        "    if(y[(i,j)].x > 0.9 and y[(i,j)].x < 1.1):\n",
        "      if(i<16):\n",
        "        print(i)\n",
        "        res2.append(i)\n",
        "\n",
        "print(res2)\n"
      ]
    },
    {
      "cell_type": "code",
      "execution_count": 10,
      "id": "303952ca",
      "metadata": {
        "colab": {
          "base_uri": "https://localhost:8080/"
        },
        "id": "303952ca",
        "outputId": "6b84b054-9bd9-4440-d504-c974e22a1a1d"
      },
      "outputs": [
        {
          "name": "stdout",
          "output_type": "stream",
          "text": [
            "13034.0\n"
          ]
        }
      ],
      "source": [
        "print(m.objective_value)"
      ]
    },
    {
      "cell_type": "code",
      "execution_count": 11,
      "id": "6b00a9b0",
      "metadata": {
        "id": "6b00a9b0"
      },
      "outputs": [
        {
          "name": "stdout",
          "output_type": "stream",
          "text": [
            "['s', '1', \"1'\", '2', \"2'\", '3', \"3'\", '4', \"4'\", '5', \"5'\", '6', \"6'\", '7', \"7'\", '8', \"8'\", '9', \"9'\", '10', \"10'\", '11', \"11'\", '12', \"12'\", '13', \"13'\", '14', \"14'\", '15', \"15'\"]\n",
            "{('1', \"1'\"): 1.7, (\"1'\", '1'): 1.7, ('2', \"2'\"): 2.1, (\"2'\", '2'): 2.1, ('3', \"3'\"): 1.1, (\"3'\", '3'): 1.1, ('4', \"4'\"): 0.3, (\"4'\", '4'): 0.3, ('5', \"5'\"): 0.4, (\"5'\", '5'): 0.4, ('6', \"6'\"): 2.3, (\"6'\", '6'): 2.3, ('7', \"7'\"): 0.2, (\"7'\", '7'): 0.2, ('8', \"8'\"): 0.9, (\"8'\", '8'): 0.9, ('9', \"9'\"): 2.1, (\"9'\", '9'): 2.1, ('10', \"10'\"): 4.3, (\"10'\", '10'): 4.3, ('11', \"11'\"): 5.2, (\"11'\", '11'): 5.2, ('12', \"12'\"): 0.1, (\"12'\", '12'): 0.1, ('13', \"13'\"): 2.8, (\"13'\", '13'): 2.8, ('14', \"14'\"): 0.9, (\"14'\", '14'): 0.9, ('15', \"15'\"): 0.1, (\"15'\", '15'): 0.1, ('1', 's'): 0, ('2', '1'): 12, ('3', '2'): 24, ('4', '3'): 7, ('5', '4'): 8, ('6', '5'): 35, ('7', '6'): 21, ('8', '7'): 19, ('9', '8'): 9, ('10', '9'): 31, ('11', '10'): 15, ('12', '11'): 21, ('13', '12'): 6, ('14', '13'): 23, ('15', '14'): 29, ('t', '15'): 0}\n"
          ]
        },
        {
          "data": {
            "text/plain": [
              "<matplotlib.collections.PathCollection at 0x7f77740456a0>"
            ]
          },
          "execution_count": 11,
          "metadata": {},
          "output_type": "execute_result"
        },
        {
          "data": {
            "image/png": "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",
            "text/plain": [
              "<Figure size 640x480 with 1 Axes>"
            ]
          },
          "metadata": {},
          "output_type": "display_data"
        }
      ],
      "source": [
        "#DISEGNA GRAFO\n",
        "G = nx.DiGraph()\n",
        "\n",
        "vertici = []\n",
        "vertici.append(\"s\")\n",
        "for i in range(1,n+1):\n",
        "    vertici.append(str(i))\n",
        "    vertici.append(str(i) + '\\'')\n",
        "print(vertici)\n",
        "vertici.append(\"t\")\n",
        "\n",
        "archi = {}\n",
        "for i in range(1,n+1):\n",
        "    archi[(str(i), str(i) + '\\'')] = consumption_deviation[i]\n",
        "    archi[(str(i) + '\\'', str(i))] = consumption_deviation[i]\n",
        "for i in range(n+1):\n",
        "    if i==0:\n",
        "        archi[(str(i+1), \"s\")] = 0\n",
        "    elif i==n:\n",
        "        archi[(\"t\", str(i))] = 0\n",
        "    else:\n",
        "        archi[(str(i+1), str(i))] = consumption[i]\n",
        "print(archi)\n",
        "\n",
        "G.add_nodes_from(vertici)\n",
        "G.add_edges_from(archi)\n",
        "labels = {i: i for i in vertici}\n",
        "pos = nx.spring_layout(G)\n",
        "nx.draw(G, pos, with_labels=True, labels=labels)\n",
        "nx.draw_networkx_nodes(G,pos,nodelist=[str(i)+'\\'' for i in res],node_color='r')\n"
      ]
    },
    {
      "cell_type": "markdown",
      "id": "bd2f07f2",
      "metadata": {
        "id": "bd2f07f2"
      },
      "source": [
        "## Comment\n",
        "\n",
        "Do you obtain the same solution? Why?\n",
        "\n",
        "Non otteniamo la stessa soluzione perché i percorsi non hanno consumi simmetrici. \n",
        "Questo è giustificabile fisicamente, ad esempio, perché una stessa strada se è in pendenza può avere un consumo energetico diverso in base al verso di percorrenza.\n",
        "Inoltre, un altro effetto del cambio di verso di percorrenza è che, sempre a causa dei consumi diversi, con la stessa ricarica posso percorrere un tragitto diverso."
      ]
    }
  ],
  "metadata": {
    "colab": {
      "provenance": []
    },
    "kernelspec": {
      "display_name": "Python 3 (ipykernel)",
      "language": "python",
      "name": "python3"
    },
    "language_info": {
      "codemirror_mode": {
        "name": "ipython",
        "version": 3
      },
      "file_extension": ".py",
      "mimetype": "text/x-python",
      "name": "python",
      "nbconvert_exporter": "python",
      "pygments_lexer": "ipython3",
      "version": "3.12.3"
    }
  },
  "nbformat": 4,
  "nbformat_minor": 5
}
